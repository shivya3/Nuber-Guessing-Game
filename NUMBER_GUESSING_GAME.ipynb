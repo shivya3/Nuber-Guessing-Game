{
  "nbformat": 4,
  "nbformat_minor": 0,
  "metadata": {
    "colab": {
      "provenance": [],
      "collapsed_sections": []
    },
    "kernelspec": {
      "display_name": "Python 3",
      "name": "python3"
    },
    "language_info": {
      "name": "python"
    }
  },
  "cells": [
    {
      "cell_type": "markdown",
      "metadata": {
        "id": "LQS5fA1bO8cX"
      },
      "source": [
        "**INTUTION BRAIN GAME🧠**\n"
      ]
    },
    {
      "cell_type": "markdown",
      "metadata": {
        "id": "qT14SnPkE7lQ"
      },
      "source": [
        "**HEY! YOU GAMER 👻👾**"
      ]
    },
    {
      "cell_type": "markdown",
      "metadata": {
        "id": "wII-v3F7F4Iy"
      },
      "source": [
        "**LET'S PLAY A NUMBER GUESSING GAME👻**"
      ]
    },
    {
      "cell_type": "code",
      "metadata": {
        "colab": {
          "base_uri": "https://localhost:8080/"
        },
        "id": "vstHEk3sE5A8",
        "outputId": "3018ddc1-1de1-4084-ce91-0a8dbf43e0fb"
      },
      "source": [
        "GAMER_NAME = input(\"What's your name? \")\n",
        "print(\"That's a sweet name.🙂\")"
      ],
      "execution_count": null,
      "outputs": [
        {
          "output_type": "stream",
          "name": "stdout",
          "text": [
            "What's your name? SHIVYA\n",
            "That's a sweet name.🙂\n"
          ]
        }
      ]
    },
    {
      "cell_type": "code",
      "metadata": {
        "colab": {
          "base_uri": "https://localhost:8080/"
        },
        "id": "nZWw9PdkxIuU",
        "outputId": "dfc5e5d6-99c8-473c-a5d3-f525de784ff0"
      },
      "source": [
        "import random  #Library used to generate random numbers \n",
        "print(\"OKAY! \" +GAMER_NAME+ \" I'm Guessing a number between 1 and 50:\")  #+name+ To get input value printed here\n",
        "number = random.randint(1, 50) #For computer to take random integer from 1 to 50\n",
        "num_of_guesses = 0  #Starting point of the loop i.e. 0\n",
        "while num_of_guesses < 6:\n",
        "    guess = int(input(\"NOW YOUR TURN TO GUESS THE NUMBER: \"))\n",
        "    num_of_guesses += 1   #incrementing value by 1 after each loop and go till 6 as mentioned in line 5\n",
        "    if guess < number:\n",
        "        print(\"YOUR GUESS IS TOO LOW\")\n",
        "    if guess > number:\n",
        "        print(\"YOUR GUESS IS TOO HIGH\")\n",
        "    if guess == number:  # == operator is used for showing two things equal\n",
        "        break     #To stop the loop\n",
        "if guess == number:\n",
        "    print(\"CONGRATULATION! \"+GAMER_NAME+ \" YOU GUESSED THE NUMBER RIGHT IN \" +str(num_of_guesses)+ \" TRIES!\")   #str() is used for taking integer value as string in a sentence\n",
        "else:\n",
        "    print(\"YOU FAILED!!!!! YOU COULDN'T GUESS THE NUMBER, THE NUMBER WAS \" +str(number))"
      ],
      "execution_count": null,
      "outputs": [
        {
          "output_type": "stream",
          "name": "stdout",
          "text": [
            "OKAY! SHIVYA I'm Guessing a number between 1 and 50:\n",
            "NOW YOUR TURN TO GUESS THE NUMBER: 49\n",
            "YOUR GUESS IS TOO HIGH\n",
            "NOW YOUR TURN TO GUESS THE NUMBER: 30\n",
            "YOUR GUESS IS TOO HIGH\n",
            "NOW YOUR TURN TO GUESS THE NUMBER: 20\n",
            "YOUR GUESS IS TOO LOW\n",
            "NOW YOUR TURN TO GUESS THE NUMBER: 25\n",
            "YOUR GUESS IS TOO LOW\n",
            "NOW YOUR TURN TO GUESS THE NUMBER: 28\n",
            "YOUR GUESS IS TOO HIGH\n",
            "NOW YOUR TURN TO GUESS THE NUMBER: 26\n",
            "YOUR GUESS IS TOO LOW\n",
            "YOU FAILED!!!!! YOU COULDN'T GUESS THE NUMBER, THE NUMBER WAS 27\n"
          ]
        }
      ]
    }
  ]
}